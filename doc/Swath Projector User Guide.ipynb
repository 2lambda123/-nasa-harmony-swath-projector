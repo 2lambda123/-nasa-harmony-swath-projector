{
 "cells": [
  {
   "cell_type": "markdown",
   "metadata": {},
   "source": [
    "# The Harmony Swath Projector service\n",
    "\n",
    "This Jupyter notebook demonstrates how to use the Swath Projector, a Harmony backend service that transforms level 2 swath data into a gridded output product. This notebook will use `harmony-py` and a variety of input arguments that can be given to the service to define the output grid."
   ]
  },
  {
   "cell_type": "markdown",
   "metadata": {},
   "source": [
    "### Environment setup:\n",
    "\n",
    "This notebook assumes that it is being run in a local Python environment, configured using either `pyenv` or conda. Either can be used, but the dependencies will be installed via Pip. To install the required packages to run this notebook:\n",
    "\n",
    "```bash\n",
    "$ pip install -r requirements.txt\n",
    "```\n",
    "\n",
    "Note - your environment will require the [geos](https://trac.osgeo.org/geos/) package to be able to install all the dependencies for this notebook (particularly `cartopy`).\n",
    "\n",
    "`harmony-py` is available from [PyPI](https://pypi.org/project/harmony-py/). It can also be installed with Pip:\n",
    "\n",
    "```bash\n",
    "$ pip install harmony-py\n",
    "```"
   ]
  },
  {
   "cell_type": "markdown",
   "metadata": {},
   "source": [
    "### Plotting utility function:"
   ]
  },
  {
   "cell_type": "code",
   "execution_count": null,
   "metadata": {},
   "outputs": [],
   "source": [
    "import numpy as np\n",
    "from netCDF4 import Dataset\n",
    "\n",
    "import matplotlib.pyplot as plt\n",
    "%matplotlib inline\n",
    "\n",
    "\n",
    "def create_plot(variable_data, x_values, y_values, title=None, colourbar_units=None,\n",
    "                x_label=None, y_label=None):\n",
    "    \"\"\" This helper function will display a contour plot of the requested data. \"\"\"\n",
    "    fig = plt.figure(figsize=(10, 10))\n",
    "\n",
    "    if title is not None:\n",
    "        fig.suptitle(title, fontsize=20)\n",
    "\n",
    "    ax = plt.axes(xlabel=x_label, ylabel=y_label)\n",
    "\n",
    "    # Plot masked data:\n",
    "    colour_scale = ax.contourf(x_values[:], y_values[:], variable_data[0][:], levels=20)\n",
    "    \n",
    "    # Add colour bar for scaling\n",
    "    colour_bar = plt.colorbar(colour_scale, ax=ax, orientation='horizontal', pad=0.05)\n",
    "\n",
    "    if colourbar_units is not None:\n",
    "        colour_bar.set_label(colourbar_units, fontsize=14)\n",
    "\n",
    "    plt.tight_layout()\n",
    "    plt.show()\n",
    "\n",
    "\n",
    "def plot_variable(file_name, variable, x_variable, y_variable, title, colourbar_units,\n",
    "                  x_label, y_label):\n",
    "    \"\"\" Open the requested NetCDF-4 file and pass the variables through to the `create_plot`\n",
    "        function.\n",
    "\n",
    "    \"\"\"\n",
    "    with Dataset(file_name, 'r') as dataset:\n",
    "        create_plot(dataset[variable], dataset[x_variable], dataset[y_variable], title=title,\n",
    "                    colourbar_units=colourbar_units, x_label=x_label, y_label=y_label)"
   ]
  },
  {
   "cell_type": "markdown",
   "metadata": {},
   "source": [
    "### Example data:\n",
    "\n",
    "In the following cell, the collection and several granule concept IDs are assigned to more human-readable variables. In this notebook, the example Harmony L2 data collection will be used, which contains simulated data mapped to different continents."
   ]
  },
  {
   "cell_type": "code",
   "execution_count": null,
   "metadata": {},
   "outputs": [],
   "source": [
    "collection_id = 'C1233860183-EEDTEST'\n",
    "granule_ids = {'015_00_210_africa': 'G1233860549-EEDTEST',\n",
    "               '015_01_210_australia': 'G1233860551-EEDTEST',\n",
    "               '015_02_210_europe': 'G1233860553-EEDTEST',\n",
    "               '002_00_028_africa': 'G1233860481-EEDTEST',\n",
    "               '002_01_028_australia': 'G1233860484-EEDTEST',\n",
    "               '002_02_028_europe': 'G1233860486-EEDTEST'}"
   ]
  },
  {
   "cell_type": "markdown",
   "metadata": {
    "pycharm": {
     "name": "#%% md\n"
    }
   },
   "source": [
    "## Building Swath Projector requests\n",
    "\n",
    "`harmony-py` can be used to build a Harmony request, that will result in the Swath Projector service being called via the Harmony API.\n",
    "\n",
    "This first request will specify a collection and granule, but rely on default values for all other request parameters. There are further examples later in this notebook detailing the possible parameters that can be specified."
   ]
  },
  {
   "cell_type": "code",
   "execution_count": null,
   "metadata": {
    "pycharm": {
     "name": "#%%\n"
    }
   },
   "outputs": [],
   "source": [
    "from harmony import Client, Collection, Request, Environment\n",
    "\n",
    "\n",
    "# Create a client for the UAT environment:\n",
    "harmony_client = Client(env=Environment.UAT)\n",
    "\n",
    "# Create a collection instance, using the concept ID:\n",
    "collection = Collection(id=collection_id)\n",
    "\n",
    "# Construct a request, ready to send to the Harmony API:\n",
    "request = Request(collection=collection, granule_id=[granule_ids['002_02_028_europe']])\n",
    "\n",
    "# Ensure the request is valid:\n",
    "print(f'Request is valid: {request.is_valid()}')"
   ]
  },
  {
   "cell_type": "markdown",
   "metadata": {},
   "source": [
    "## Submitting requests and tracking progress\n",
    "\n",
    "Submitting a valid request to Harmony using the `Client` instance will return a job ID. This ID can be used to track the job status using in-built functionality."
   ]
  },
  {
   "cell_type": "code",
   "execution_count": null,
   "metadata": {
    "pycharm": {
     "name": "#%%\n"
    }
   },
   "outputs": [],
   "source": [
    "def wait_and_download_results(job_id):\n",
    "    \"\"\" A helper function that waits for a job to complete, and then\n",
    "        downloads the results.\n",
    "\n",
    "    \"\"\"\n",
    "    print(f'\\nWaiting for the job {job_id} to finish')\n",
    "    results = harmony_client.result_json(job_id, show_progress=True)\n",
    "    print('\\nDownloading results.')\n",
    "    futures = harmony_client.download_all(job_id, overwrite=True)\n",
    "    downloaded_files = [future.result() for future in futures]\n",
    "    print(f'Downloaded files: {downloaded_files}')\n",
    "    return downloaded_files\n",
    "\n",
    "\n",
    "# Submit a valid Harmony request via the UAT Harmony client.\n",
    "job_id = harmony_client.submit(request)\n",
    "\n",
    "# Obtain the output results:\n",
    "downloaded_files = wait_and_download_results(job_id)\n",
    "\n",
    "# Plot results\n",
    "plot_variable(downloaded_files[0], 'alpha_var', 'lon', 'lat', 'Default arguments, Europe', 'Land Mask',\n",
    "              'Longitude (degrees east)', 'Latitude (degrees north)')"
   ]
  },
  {
   "cell_type": "markdown",
   "metadata": {},
   "source": [
    "### Available parameter options:\n",
    "\n",
    "The Swath Projector can allow a user to make requests that specify several parameters, such as:\n",
    "\n",
    "* The interpolation method used in projecting to the new grid (currently: \"near\", \"bilinear\", \"ewa\" or \"ewa-nn\").\n",
    "* The target grid projection (either as a Proj string or an EPSG code).\n",
    "* The target grid extents.\n",
    "* The target grid dimensions (`height` and `width`).\n",
    "* The target grid pixel scale (in both the x and y dimension).\n",
    "\n",
    "The following examples will show these options being specified in `harmony-py` requests:\n",
    "\n",
    "#### Interpolation method:\n",
    "\n",
    "The default interpolation method is Elliptically Weighted Averaging ([EWA](https://pyresample.readthedocs.io/en/latest/swath.html#pyresample-ewa)).\n",
    "\n",
    "There are currently 4 interpolation methods accepted by the Swath Projector:\n",
    "\n",
    "* `bilinear`: [Standard bilinear interpolation](https://pyresample.readthedocs.io/en/latest/swath.html#pyresample-bilinear), that averages the values of nearby input cells.\n",
    "* `ewa`: Elliptically Weighted Averaging, which accounts for the swath nature of the input data. This averages the values of nearby cells, applying weighting based on an elliptical kernel.\n",
    "* `ewa-nn` Elliptically Weighted Averaging (Nearest Neighbour). After finding the input pixels with the highest weight to each output pixel, the value of the single pixel with the highest weight is taken for each.\n",
    "* `near`: [Standard nearest neighbour interpolation](https://pyresample.readthedocs.io/en/latest/swath.html#pyresample-kd-tree). The value of the nearest input pixel is take for each output pixel.\n",
    "\n",
    "In the following request, the nearest neighbour interpolation method is chosen instead of the default (EWA):"
   ]
  },
  {
   "cell_type": "code",
   "execution_count": null,
   "metadata": {},
   "outputs": [],
   "source": [
    "interpolation_options = ['bilinear', 'ewa', 'ewa-nn', 'near']\n",
    "\n",
    "nearest_neighbour_request = Request(collection=collection,\n",
    "                                    granule_id=[granule_ids['002_01_028_australia']],\n",
    "                                    interpolation='near')\n",
    "\n",
    "nearest_neighbour_job_id = harmony_client.submit(nearest_neighbour_request)\n",
    "nearest_neighbour_results = wait_and_download_results(nearest_neighbour_job_id)\n",
    "\n",
    "plot_variable(nearest_neighbour_results[0], 'alpha_var', 'lon', 'lat',\n",
    "              'Nearest Neighbour interpolation, Australia', 'Land Mask',\n",
    "              'Longitude (degrees east)', 'Latitude (degrees north)')"
   ]
  },
  {
   "cell_type": "markdown",
   "metadata": {},
   "source": [
    "#### Target grid extent:\n",
    "\n",
    "It is possible to define the minimum and maximum values of the x and y dimensions of the target grid used in the output product. This is specified by the `scale_extent` keyword argument when creating a new `Request` instance.\n",
    "\n",
    "In the example above that uses only default arguments, a request will be made for a granule containing Africa. The `scale_extent` parameter will be used to create a grid that only includes the region of the continent surrounding Chad:"
   ]
  },
  {
   "cell_type": "code",
   "execution_count": null,
   "metadata": {},
   "outputs": [],
   "source": [
    "x_min, x_max = (13.3, 24.2)\n",
    "y_min, y_max = (7.4, 23.7)\n",
    "\n",
    "scale_extent_request = Request(collection=collection,\n",
    "                               granule_id=[granule_ids['002_00_028_africa']],\n",
    "                               scale_extent=[x_min, y_min, x_max, y_max])\n",
    "\n",
    "scale_extent_job_id = harmony_client.submit(scale_extent_request)\n",
    "scale_extent_results = wait_and_download_results(scale_extent_job_id)\n",
    "\n",
    "plot_variable(scale_extent_results[0], 'green_var', 'lon', 'lat',\n",
    "              'Output grid surrounding Chad', 'green_var',\n",
    "              'Longitude (degrees east)', 'Latitude (degrees north)')"
   ]
  },
  {
   "cell_type": "markdown",
   "metadata": {},
   "source": [
    "#### Target grid dimensions:\n",
    "\n",
    "By default, the Swath Projector will derive an output grid extent and resolution from the input swath. It is possible to alter the output grid by specifying the number of pixels in the output grid in both the x and y dimensions. With the same extents, but different grid dimensions, the output grid resolution will be changed. This is acheived with the `height` and `width` request parameters:"
   ]
  },
  {
   "cell_type": "code",
   "execution_count": null,
   "metadata": {},
   "outputs": [],
   "source": [
    "dimensions_request = Request(collection=collection,\n",
    "                             granule_id=[granule_ids['015_02_210_europe']],\n",
    "                             height=250,\n",
    "                             width=250)\n",
    "\n",
    "dimensions_job_id = harmony_client.submit(dimensions_request)\n",
    "dimensions_results = wait_and_download_results(dimensions_job_id)\n",
    "\n",
    "plot_variable(dimensions_results[0], 'green_var', 'lon', 'lat',\n",
    "              'Specifying output grid dimensions', 'green_var',\n",
    "              'Longitude (degrees east)', 'Latitude (degrees north)')"
   ]
  },
  {
   "cell_type": "markdown",
   "metadata": {},
   "source": [
    "#### Target pixel scale:\n",
    "\n",
    "The output pixel scales can be specified using the `scaleSize` keyword argument. Note that this cannot be specified at the same time as the dimensions of the output grid (`height` and `width`). In the request below, an output grid pixel scale of 0.5 degrees in both directions."
   ]
  },
  {
   "cell_type": "code",
   "execution_count": null,
   "metadata": {},
   "outputs": [],
   "source": [
    "x_resolution = 0.5\n",
    "y_resolution = 0.5\n",
    "\n",
    "scale_size_request = Request(collection=collection,\n",
    "                             granule_id=[granule_ids['015_01_210_australia']],\n",
    "                             scale_size=[x_resolution, y_resolution])\n",
    "\n",
    "scale_size_job_id = harmony_client.submit(scale_size_request)\n",
    "scale_size_results = wait_and_download_results(scale_size_job_id)\n",
    "\n",
    "plot_variable(scale_size_results[0], 'green_var', 'lon', 'lat',\n",
    "              'Specifying output pixel size', 'green_var',\n",
    "              'Longitude (degrees east)', 'Latitude (degrees north)')"
   ]
  },
  {
   "cell_type": "markdown",
   "metadata": {},
   "source": [
    "#### Target grid CRS:\n",
    "\n",
    "The projection of the output grid can be specified using the `crs` keyword argument. This is a string value that can either be an [EPSG code](https://epsg.org/home.html), or a [Proj string](https://proj.org/usage/quickstart.html).\n",
    "\n",
    "The following request will specify that the [NSIDC EASE-2 global projection](https://nsidc.org/data/ease) is used:"
   ]
  },
  {
   "cell_type": "code",
   "execution_count": null,
   "metadata": {},
   "outputs": [],
   "source": [
    "crs_epsg_request = Request(collection=collection,\n",
    "                           granule_id=[granule_ids['015_00_210_africa']],\n",
    "                           crs='EPSG:6933')\n",
    "\n",
    "crs_epsg_job_id = harmony_client.submit(crs_epsg_request)\n",
    "crs_epsg_results = wait_and_download_results(crs_epsg_job_id)\n",
    "\n",
    "plot_variable(crs_epsg_results[0], 'blue_var', 'x', 'y',\n",
    "              'Specifying output pixel size', 'blue_var',\n",
    "              'x (projected metres)', 'y (projected metres)')"
   ]
  }
 ],
 "metadata": {
  "kernelspec": {
   "display_name": "Python 3 (ipykernel)",
   "language": "python",
   "name": "python3"
  },
  "language_info": {
   "codemirror_mode": {
    "name": "ipython",
    "version": 3
   },
   "file_extension": ".py",
   "mimetype": "text/x-python",
   "name": "python",
   "nbconvert_exporter": "python",
   "pygments_lexer": "ipython3",
   "version": "3.8.13"
  }
 },
 "nbformat": 4,
 "nbformat_minor": 4
}
